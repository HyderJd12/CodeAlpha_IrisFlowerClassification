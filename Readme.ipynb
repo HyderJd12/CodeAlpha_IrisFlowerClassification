{
 "cells": [
  {
   "cell_type": "code",
   "execution_count": null,
   "id": "a469b2fc-1d7e-4e4b-895d-d1a2913df072",
   "metadata": {},
   "outputs": [],
   "source": []
  }
 ],
 "metadata": {
  "kernelspec": {
   "display_name": "",
   "name": ""
  },
  "language_info": {
   "name": ""
  }
 },
 "nbformat": 4,
 "nbformat_minor": 5
}
